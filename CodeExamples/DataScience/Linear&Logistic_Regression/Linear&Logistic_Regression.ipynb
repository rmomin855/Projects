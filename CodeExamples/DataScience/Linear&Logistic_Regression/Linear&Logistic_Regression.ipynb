{
 "nbformat": 4,
 "nbformat_minor": 2,
 "metadata": {
  "language_info": {
   "name": "python",
   "codemirror_mode": {
    "name": "ipython",
    "version": 3
   }
  },
  "orig_nbformat": 2,
  "file_extension": ".py",
  "mimetype": "text/x-python",
  "name": "python",
  "npconvert_exporter": "python",
  "pygments_lexer": "ipython3",
  "version": 3
 },
 "cells": [
  {
   "cell_type": "code",
   "execution_count": 3,
   "metadata": {},
   "outputs": [],
   "source": [
    "import pandas as panda\n",
    "import numpy as numpy\n",
    "import math\n",
    "import random"
   ]
  },
  {
   "cell_type": "code",
   "execution_count": 4,
   "metadata": {},
   "outputs": [],
   "source": [
    "trainingData = panda.read_excel(\"Project3.xlsx\", sheet_name=\"Training\")\n",
    "PredictData = panda.read_excel(\"Project3.xlsx\", sheet_name=\"Predict\")\n"
   ]
  },
  {
   "cell_type": "code",
   "execution_count": 5,
   "metadata": {},
   "outputs": [],
   "source": [
    "def GetWlin(X,Y):\n",
    "    XTX = numpy.dot(X.T, X)\n",
    "    XTXIXT = numpy.dot(numpy.linalg.inv(XTX), X.T)\n",
    "\n",
    "    return numpy.dot(XTXIXT, Y)"
   ]
  },
  {
   "cell_type": "markdown",
   "execution_count": null,
   "metadata": {},
   "outputs": [],
   "source": [
    "<b>1.a</b>"
   ]
  },
  {
   "cell_type": "code",
   "execution_count": 56,
   "metadata": {},
   "outputs": [
    {
     "name": "stdout",
     "output_type": "stream",
     "text": "[[7.66712306]\n [0.31262773]\n [0.15289359]\n [0.43866389]]\n"
    }
   ],
   "source": [
    "x0 = numpy.ones(numpy.size(trainingData[\"Midterm\"]))\n",
    "x1 = numpy.array(trainingData[\"Midterm\"])\n",
    "x2 = numpy.array(trainingData[\"Homework\"])\n",
    "x3 = numpy.array(trainingData[\"Quiz\"])\n",
    "Y = numpy.matrix(trainingData[\"Course Grade\"]).T\n",
    "\n",
    "X = numpy.matrix([x0, x1, x2, x3])\n",
    "X = X.T\n",
    "\n",
    "Wlin = GetWlin(X,Y)\n",
    "print(Wlin)\n",
    "\n",
    "file = open('1a.txt', 'w') \n",
    "print(Wlin, file = file) \n",
    "file.close() "
   ]
  },
  {
   "cell_type": "markdown",
   "execution_count": null,
   "metadata": {},
   "outputs": [],
   "source": [
    "<b>1.b</b>"
   ]
  },
  {
   "cell_type": "code",
   "execution_count": 58,
   "metadata": {},
   "outputs": [
    {
     "name": "stdout",
     "output_type": "stream",
     "text": "[[66.2096111 ]\n [48.56357988]\n [75.74333708]\n [64.71719403]\n [68.00762601]\n [76.33680974]\n [69.53807621]\n [78.88380021]\n [77.34208887]\n [75.73992604]\n [72.74934632]\n [84.25469179]\n [68.69585682]\n [74.83081547]\n [84.69436523]\n [79.43723912]\n [67.87184302]\n [83.24640249]\n [70.41188903]\n [76.36749754]\n [86.19785409]\n [82.99433017]\n [81.359375  ]\n [79.6447532 ]\n [87.12889672]\n [82.85511768]\n [88.89039282]\n [87.28863086]\n [89.4819503 ]\n [82.5962048 ]\n [85.53397531]\n [82.33729193]\n [78.70194466]\n [64.25882868]\n [83.56003976]\n [85.28190298]\n [90.57272706]\n [86.06005202]\n [83.20788306]\n [88.85176949]\n [82.7173156 ]\n [91.23168049]\n [89.63675907]\n [82.77103045]\n [90.10912094]\n [84.87794661]\n [93.48555533]\n [91.44512948]\n [89.12577387]\n [97.77301547]\n [95.45365987]\n [90.02955821]\n [94.57633209]\n [94.53629834]]\n"
    }
   ],
   "source": [
    "p0 = numpy.ones(numpy.size(PredictData[\"Midterm\"]))\n",
    "p1 = numpy.array(PredictData[\"Midterm\"])\n",
    "p2 = numpy.array(PredictData[\"Homework\"])\n",
    "p3 = numpy.array(PredictData[\"Quiz\"])\n",
    "\n",
    "P = numpy.matrix([p0, p1, p2, p3]).T\n",
    "\n",
    "PredictedY = numpy.dot(P,Wlin)\n",
    "\n",
    "print(PredictedY)\n",
    "\n",
    "file = open('1b.txt', 'w') \n",
    "print(PredictedY, file = file) \n",
    "file.close() "
   ]
  },
  {
   "cell_type": "markdown",
   "execution_count": 46,
   "metadata": {},
   "outputs": [
    {
     "ename": "SyntaxError",
     "evalue": "invalid syntax (<ipython-input-46-3e2069197776>, line 1)",
     "output_type": "error",
     "traceback": [
      "\u001b[1;36m  File \u001b[1;32m\"<ipython-input-46-3e2069197776>\"\u001b[1;36m, line \u001b[1;32m1\u001b[0m\n\u001b[1;33m    <b>1.b</b>\u001b[0m\n\u001b[1;37m    ^\u001b[0m\n\u001b[1;31mSyntaxError\u001b[0m\u001b[1;31m:\u001b[0m invalid syntax\n"
     ]
    }
   ],
   "source": [
    "<b>2.a</b>"
   ]
  },
  {
   "cell_type": "markdown",
   "execution_count": null,
   "metadata": {},
   "outputs": [],
   "source": [
    "<b>Pass = 1 and Fail = -1</b>"
   ]
  },
  {
   "cell_type": "code",
   "execution_count": 8,
   "metadata": {},
   "outputs": [
    {
     "name": "stdout",
     "output_type": "stream",
     "text": "[-1. -1. -1. -1. -1. -1. -1. -1. -1. -1. -1. -1. -1. -1. -1. -1. -1. -1.\n -1. -1. -1. -1. -1. -1. -1. -1. -1. -1. -1. -1. -1. -1. -1. -1. -1. -1.\n -1. -1. -1. -1. -1. -1. -1. -1. -1. -1. -1. -1. -1. -1. -1.  1.  1.  1.\n  1.  1.  1.  1.  1.  1.  1.  1.  1.  1.  1.  1.  1.  1.  1.  1.  1.  1.\n  1.  1.  1.  1.  1.  1.  1.  1.  1.  1.  1.  1.  1.  1.  1.  1.  1.  1.\n  1.  1.  1.  1.  1.  1.  1.  1.  1.  1.  1.  1.  1.  1.  1.  1.  1.  1.\n  1.  1.  1.  1.  1.  1.  1.  1.  1.  1.  1.  1.  1.  1.  1.  1.  1.  1.\n  1.  1.  1.  1.  1.  1.  1.  1.  1.  1.  1.  1.  1.  1.  1.  1.  1.  1.\n  1.  1.  1.  1.  1.  1.  1.  1.  1.  1.  1.  1.  1.  1.  1.  1.  1.  1.\n  1.  1.  1.  1.  1.  1.  1.  1.  1.  1.  1.  1.  1.  1.  1.  1.  1.  1.\n  1.  1.  1.  1.  1.  1.  1.  1.  1.  1.  1.  1.  1.  1.  1.  1.  1.  1.\n  1.  1.  1.  1.  1.  1.  1.  1.  1.  1.  1.  1.  1.  1.  1.  1.  1.  1.\n  1.  1.  1.  1.  1.  1.  1.  1.  1.  1.  1.  1.  1.  1.  1.  1.  1.  1.\n  1.  1.  1.  1.  1.  1.  1.  1.  1.  1.  1.  1.  1.  1.  1.  1.  1.  1.\n  1.  1.  1.  1.  1.  1.  1.  1.  1.  1.  1.  1.  1.  1.  1.  1.  1.  1.\n  1.  1.  1.  1.  1.  1.  1.  1.  1.  1.  1.  1.  1.  1.  1.  1.  1.  1.\n  1.  1.  1.  1.  1.  1.  1.  1.  1.  1.  1.  1.  1.  1.  1.  1.  1.  1.\n  1.  1.  1.  1.  1.  1.  1.  1.  1.  1.  1.  1.  1.  1.  1.  1.  1.  1.\n  1.  1.  1.  1.  1.  1.  1.]\n"
    }
   ],
   "source": [
    "newY = numpy.ones(numpy.size(Y))\n",
    "\n",
    "for i in range(numpy.size(Y)):\n",
    "    if Y[i] < 70.0:\n",
    "        newY[i] = -1\n",
    "    else:\n",
    "        newY[i] = 1\n",
    "\n",
    "print(newY)"
   ]
  },
  {
   "cell_type": "markdown",
   "execution_count": null,
   "metadata": {},
   "outputs": [],
   "source": [
    "<b>2.b</b>"
   ]
  },
  {
   "cell_type": "code",
   "execution_count": 23,
   "metadata": {},
   "outputs": [],
   "source": [
    "def GetError(Wlin, X, Y):\n",
    "    power = numpy.multiply(Y, numpy.dot(Wlin.T,X))\n",
    "    expPower = math.exp(power)\n",
    "\n",
    "    return numpy.multiply(-Y,X) / (1.0 + expPower)"
   ]
  },
  {
   "cell_type": "code",
   "execution_count": 40,
   "metadata": {},
   "outputs": [],
   "source": [
    "def LogisticRegressionWithStochasticGD(Wlin, X, Y, step, maxIterations):\n",
    "    w0 = Wlin\n",
    "    w1 = Wlin\n",
    "\n",
    "    tolleranceArray = numpy.ones(numpy.size(Wlin))\n",
    "    tolleranceArray = numpy.dot(0.000000001, tolleranceArray)\n",
    "\n",
    "    for i in range(maxIterations):\n",
    "\n",
    "        index = random.randint(0, numpy.size(Y) - 1)\n",
    "\n",
    "        w1 = w0 - step * GetError(Wlin, X[index].T, Y[index])\n",
    "\n",
    "        if (abs(w1 - w0) < tolleranceArray).all():\n",
    "            return w1\n",
    "            pass\n",
    "\n",
    "        w0 = w1\n",
    "        pass\n",
    "    \n",
    "    return w1"
   ]
  },
  {
   "cell_type": "code",
   "execution_count": 59,
   "metadata": {},
   "outputs": [
    {
     "name": "stdout",
     "output_type": "stream",
     "text": "step : 1e-07\n\nw0 used:\n[[0.]\n [0.]\n [0.]\n [0.]]\n\nAfter logistic Regression:\n[[0.0034468 ]\n [0.29619615]\n [0.3146673 ]\n [0.3097572 ]]\n"
    }
   ],
   "source": [
    "step = 0.0000001\n",
    "\n",
    "print(\"step :\", step)\n",
    "print()\n",
    "\n",
    "Wlin2 = numpy.matrix(numpy.zeros(numpy.size(Wlin))).T\n",
    "print(\"w0 used:\")\n",
    "print(Wlin2)\n",
    "\n",
    "WlinRegressed = LogisticRegressionWithStochasticGD(Wlin2, X, newY, step, 100000)\n",
    "\n",
    "print()\n",
    "print(\"After logistic Regression:\")\n",
    "print(WlinRegressed)\n",
    "\n",
    "file = open('2b.txt', 'w') \n",
    "print(WlinRegressed, file = file) \n",
    "file.close() "
   ]
  },
  {
   "cell_type": "markdown",
   "execution_count": null,
   "metadata": {},
   "outputs": [],
   "source": [
    "<b>2.c</b>"
   ]
  },
  {
   "cell_type": "code",
   "execution_count": 60,
   "metadata": {},
   "outputs": [
    {
     "name": "stdout",
     "output_type": "stream",
     "text": "[[-1.]\n [-1.]\n [ 1.]\n [-1.]\n [-1.]\n [ 1.]\n [-1.]\n [ 1.]\n [ 1.]\n [-1.]\n [-1.]\n [ 1.]\n [-1.]\n [-1.]\n [ 1.]\n [ 1.]\n [-1.]\n [ 1.]\n [-1.]\n [ 1.]\n [ 1.]\n [ 1.]\n [ 1.]\n [ 1.]\n [ 1.]\n [ 1.]\n [ 1.]\n [ 1.]\n [ 1.]\n [ 1.]\n [ 1.]\n [ 1.]\n [ 1.]\n [-1.]\n [ 1.]\n [ 1.]\n [ 1.]\n [ 1.]\n [ 1.]\n [ 1.]\n [ 1.]\n [ 1.]\n [ 1.]\n [ 1.]\n [ 1.]\n [ 1.]\n [ 1.]\n [ 1.]\n [ 1.]\n [ 1.]\n [ 1.]\n [ 1.]\n [ 1.]\n [ 1.]]\n"
    }
   ],
   "source": [
    "PredictedY = numpy.dot(P, WlinRegressed)\n",
    "\n",
    "for i in range(numpy.size(PredictedY)):\n",
    "    if PredictedY[i] < 70.0:\n",
    "        PredictedY[i] = -1\n",
    "    else:\n",
    "        PredictedY[i] = 1\n",
    "\n",
    "print(PredictedY)\n",
    "file = open('2c.txt', 'w') \n",
    "print(PredictedY, file = file) \n",
    "file.close() "
   ]
  },
  {
   "cell_type": "code",
   "execution_count": null,
   "metadata": {},
   "outputs": [],
   "source": []
  }
 ]
}